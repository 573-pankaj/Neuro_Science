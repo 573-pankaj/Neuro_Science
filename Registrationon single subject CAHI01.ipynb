{
 "cells": [
  {
   "cell_type": "markdown",
   "id": "d9b3374c-616e-436e-9979-475e5e8ebfdf",
   "metadata": {},
   "source": [
    "# Registration "
   ]
  },
  {
   "cell_type": "code",
   "execution_count": 1,
   "id": "802be281-ea9a-4d2b-b3a1-c5ac26f18f06",
   "metadata": {},
   "outputs": [
    {
     "name": "stdout",
     "output_type": "stream",
     "text": [
      "AntsPy version = 0.3.8\n",
      "SimpleITK version = 2.3.0\n"
     ]
    }
   ],
   "source": [
    "%matplotlib inline\n",
    "\n",
    "import os\n",
    "from helpers import *\n",
    "\n",
    "import ants\n",
    "import SimpleITK as sitk\n",
    "\n",
    "print(f'AntsPy version = {ants.__version__}')\n",
    "print(f'SimpleITK version = {sitk.__version__}')"
   ]
  },
  {
   "cell_type": "code",
   "execution_count": 35,
   "id": "37c9a485-cfa9-4aea-a34b-4f72744c4be6",
   "metadata": {},
   "outputs": [
    {
     "name": "stdout",
     "output_type": "stream",
     "text": [
      "project folder = D:\\NEURO_DATA\\Antspy\\MRI-preprocessing-techniques\n"
     ]
    }
   ],
   "source": [
    "BASE_DIR = os.path.dirname(os.path.dirname(os.path.abspath(\"__file__\")))\n",
    "print(f'project folder = {BASE_DIR}')"
   ]
  },
  {
   "cell_type": "code",
   "execution_count": 36,
   "id": "58e63206-1d1d-4531-a506-b3c9dd8fe9e1",
   "metadata": {},
   "outputs": [],
   "source": [
    "raw_examples = [\n",
    "    'CAHI01.nii.gz']"
   ]
  },
  {
   "cell_type": "markdown",
   "id": "38772d1e-af39-4821-a3fb-01317d7dff87",
   "metadata": {},
   "source": [
    "### Showing Rwa image"
   ]
  },
  {
   "cell_type": "code",
   "execution_count": 37,
   "id": "e98f4a37-ef9f-4d8d-823a-500859e3d91c",
   "metadata": {},
   "outputs": [
    {
     "data": {
      "application/vnd.jupyter.widget-view+json": {
       "model_id": "28678bcc27a944fe98e1d9bba32c6a0b",
       "version_major": 2,
       "version_minor": 0
      },
      "text/plain": [
       "interactive(children=(IntSlider(value=127, description='SLICE', max=255), Output()), _dom_classes=('widget-int…"
      ]
     },
     "metadata": {},
     "output_type": "display_data"
    }
   ],
   "source": [
    "raw_example = raw_examples[0]\n",
    "raw_img_path = os.path.join(BASE_DIR, 'assets',  'raw_examples',raw_example) #'assets',  'raw_examples'\n",
    "raw_img_ants = ants.image_read(raw_img_path, reorient='IAL')\n",
    "\n",
    "explore_3D_array(arr=raw_img_ants.numpy())"
   ]
  },
  {
   "cell_type": "markdown",
   "id": "bb1ff735-587f-4fa6-9b27-87010c6be0bd",
   "metadata": {},
   "source": [
    "# Template Image"
   ]
  },
  {
   "cell_type": "raw",
   "id": "8038bd10-4679-401c-8728-4e080c64e86f",
   "metadata": {},
   "source": [
    "MNI ICBM152: The MNI ICBM152 (Montreal Neurological Institute International Consortium on Brain Mapping 152) template is a widely used standard template in neuroimaging. It is available in different versions and resolutions and is often used for the registration and analysis of functional and structural brain imaging data."
   ]
  },
  {
   "cell_type": "code",
   "execution_count": 39,
   "id": "50f16c6f-6e35-4beb-863e-68e73b8409fe",
   "metadata": {},
   "outputs": [
    {
     "data": {
      "application/vnd.jupyter.widget-view+json": {
       "model_id": "5daab2903926405a81575676574d2048",
       "version_major": 2,
       "version_minor": 0
      },
      "text/plain": [
       "interactive(children=(IntSlider(value=94, description='SLICE', max=188), Output()), _dom_classes=('widget-inte…"
      ]
     },
     "metadata": {},
     "output_type": "display_data"
    }
   ],
   "source": [
    "# here we use MNI 152 template as a reference point\n",
    "template_img_path = os.path.join(BASE_DIR, 'assets', 'templates', 'mni_icbm152_t1_tal_nlin_sym_09a.nii')\n",
    "MNI1_template_img_ants = ants.image_read(template_img_path, reorient='IAL')\n",
    "\n",
    "explore_3D_array(arr = MNI1_template_img_ants.numpy())"
   ]
  },
  {
   "cell_type": "code",
   "execution_count": 40,
   "id": "068753ca-9f98-45c3-8c8d-7af79303c1db",
   "metadata": {},
   "outputs": [
    {
     "name": "stdout",
     "output_type": "stream",
     "text": [
      "\t\tRAW IMG\n",
      "ANTsImage (IAL)\n",
      "\t Pixel Type : float (float32)\n",
      "\t Components : 1\n",
      "\t Dimensions : (256, 256, 192)\n",
      "\t Spacing    : (1.0, 1.0, 1.0)\n",
      "\t Origin     : (191.0, 0.0, 0.0)\n",
      "\t Direction  : [ 0.  0. -1.  0.  1.  0.  1.  0.  0.]\n",
      "\n",
      "\t\tTEMPLATE IMG\n",
      "ANTsImage (IAL)\n",
      "\t Pixel Type : float (float32)\n",
      "\t Components : 1\n",
      "\t Dimensions : (189, 233, 197)\n",
      "\t Spacing    : (1.0, 1.0, 1.0)\n",
      "\t Origin     : (98.0, -98.0, -72.0)\n",
      "\t Direction  : [ 0.  0. -1.  0.  1.  0.  1.  0.  0.]\n",
      "\n"
     ]
    }
   ],
   "source": [
    "print('\\t\\tRAW IMG')\n",
    "print(raw_img_ants)\n",
    "\n",
    "print('\\t\\tTEMPLATE IMG')\n",
    "print(MNI1_template_img_ants)"
   ]
  },
  {
   "cell_type": "markdown",
   "id": "8d623bd7-d8e5-41d1-a4f4-b4ffe1b01510",
   "metadata": {},
   "source": [
    "# Perform Registrations "
   ]
  },
  {
   "cell_type": "code",
   "execution_count": 42,
   "id": "d48d4591-72ee-4839-a36b-29a1665f93d1",
   "metadata": {},
   "outputs": [
    {
     "name": "stdout",
     "output_type": "stream",
     "text": [
      "antsRegistration -d 3 -r [000001CDFF5145A0,000001CDFF514540,1] -m mattes[000001CDFF5145A0,000001CDFF514540,1,32,regular,0.2] -t Affine[0.25] -c 2100x1200x1200x0 -s 3x2x1x0 -f 4x2x2x1 -x [NA,NA] -m mattes[000001CDFF5145A0,000001CDFF514540,1,32] -t SyN[0.200000,3.000000,0.000000] -c [40x20x0,1e-7,8] -s 2x1x0 -f 4x2x1 -u 1 -z 1 -o [C:\\Users\\panka\\AppData\\Local\\Temp\\tmp3oronuwy,000001CDFF514590,000001CDFF514570] -x [NA,NA] --float 1 --write-composite-transform 0 -v 1\n"
     ]
    }
   ],
   "source": [
    "# “SyN”: Symmetric normalization: Affine + deformable transformation,\n",
    "# with mutual information as optimization metric.\n",
    "\n",
    "transformation_MNI1 = ants.registration(\n",
    "    fixed=MNI1_template_img_ants,\n",
    "    moving=raw_img_ants, \n",
    "    type_of_transform='SyN',\n",
    "    verbose=True\n",
    ")"
   ]
  },
  {
   "cell_type": "code",
   "execution_count": 43,
   "id": "f24bc624-b89e-4aed-8144-a5605f8d7595",
   "metadata": {},
   "outputs": [
    {
     "name": "stdout",
     "output_type": "stream",
     "text": [
      "{'warpedmovout': ANTsImage (IAL)\n",
      "\t Pixel Type : float (float32)\n",
      "\t Components : 1\n",
      "\t Dimensions : (189, 233, 197)\n",
      "\t Spacing    : (1.0, 1.0, 1.0)\n",
      "\t Origin     : (98.0, -98.0, -72.0)\n",
      "\t Direction  : [ 0.  0. -1.  0.  1.  0.  1.  0.  0.]\n",
      ", 'warpedfixout': ANTsImage (IAL)\n",
      "\t Pixel Type : float (float32)\n",
      "\t Components : 1\n",
      "\t Dimensions : (256, 256, 192)\n",
      "\t Spacing    : (1.0, 1.0, 1.0)\n",
      "\t Origin     : (191.0, 0.0, 0.0)\n",
      "\t Direction  : [ 0.  0. -1.  0.  1.  0.  1.  0.  0.]\n",
      ", 'fwdtransforms': ['C:\\\\Users\\\\panka\\\\AppData\\\\Local\\\\Temp\\\\tmp3oronuwy1Warp.nii.gz', 'C:\\\\Users\\\\panka\\\\AppData\\\\Local\\\\Temp\\\\tmp3oronuwy0GenericAffine.mat'], 'invtransforms': ['C:\\\\Users\\\\panka\\\\AppData\\\\Local\\\\Temp\\\\tmp3oronuwy0GenericAffine.mat', 'C:\\\\Users\\\\panka\\\\AppData\\\\Local\\\\Temp\\\\tmp3oronuwy1InverseWarp.nii.gz']}\n"
     ]
    }
   ],
   "source": [
    "print(transformation_MNI1)"
   ]
  },
  {
   "cell_type": "code",
   "execution_count": 44,
   "id": "a54639dd-e844-4c1a-8810-fc491f1eb168",
   "metadata": {},
   "outputs": [
    {
     "data": {
      "application/vnd.jupyter.widget-view+json": {
       "model_id": "7e75dad5b7ae402fb5e08daefab24b99",
       "version_major": 2,
       "version_minor": 0
      },
      "text/plain": [
       "interactive(children=(IntSlider(value=94, description='SLICE', max=188), Output()), _dom_classes=('widget-inte…"
      ]
     },
     "metadata": {},
     "output_type": "display_data"
    }
   ],
   "source": [
    "MNI_registered_img_ants = transformation_MNI1['warpedmovout'] # warpedmovout: Moving image warped to space of fixed image.\n",
    "\n",
    "explore_3D_array(arr=MNI_registered_img_ants.numpy())\n",
    "\n",
    "# Image after Registrations"
   ]
  },
  {
   "cell_type": "code",
   "execution_count": 45,
   "id": "14ca0c71-827f-439f-93dd-9b5ddb0d6e0f",
   "metadata": {},
   "outputs": [
    {
     "name": "stdout",
     "output_type": "stream",
     "text": [
      "\\assets\\raw_examples\\CAHI01.nii.gz\n",
      "\\assets\\preprocessed\\CAHI01\\CAHI01_MNI_registered.nii.gz\n"
     ]
    }
   ],
   "source": [
    "out_folder =  os.path.join(BASE_DIR, 'assets', 'preprocessed')\n",
    "out_folder = os.path.join(out_folder, raw_example.split('.')[0]) # create folder with name of the raw file\n",
    "os.makedirs(out_folder, exist_ok=True) # create folder if not exists\n",
    "\n",
    "out_filename = add_suffix_to_filename(raw_example, suffix='MNI_registered')\n",
    "out_path = os.path.join(out_folder, out_filename)\n",
    "\n",
    "print(raw_img_path[len(BASE_DIR):])\n",
    "print(out_path[len(BASE_DIR):])"
   ]
  },
  {
   "cell_type": "markdown",
   "id": "5b995d6b-f656-43ca-9e59-a2cdfe23b944",
   "metadata": {},
   "source": [
    "### Using MASK"
   ]
  },
  {
   "cell_type": "code",
   "execution_count": 46,
   "id": "da82b0b0-c312-434b-ab43-719d59a975aa",
   "metadata": {},
   "outputs": [
    {
     "data": {
      "application/vnd.jupyter.widget-view+json": {
       "model_id": "448a6a110937450e91771e441f14fbf0",
       "version_major": 2,
       "version_minor": 0
      },
      "text/plain": [
       "interactive(children=(IntSlider(value=127, description='SLICE', max=255), Output()), _dom_classes=('widget-int…"
      ]
     },
     "metadata": {},
     "output_type": "display_data"
    }
   ],
   "source": [
    "#Mask\n",
    "mask_example = add_suffix_to_filename(raw_example,suffix='M') #suffix='mask' CAHI01M.ch.nii.gz\n",
    "mask_img_path = os.path.join(BASE_DIR, 'assets', 'raw_examples', mask_example)\n",
    "mask_img_ants = ants.image_read(mask_img_path, reorient='IAL')\n",
    "\n",
    "explore_3D_array_with_mask_contour(\n",
    "    arr=raw_img_ants.numpy(),\n",
    "    mask=mask_img_ants.numpy()\n",
    ")"
   ]
  },
  {
   "cell_type": "code",
   "execution_count": 47,
   "id": "4d9b41e1-4e56-48a3-97f4-518806ca248e",
   "metadata": {},
   "outputs": [
    {
     "data": {
      "application/vnd.jupyter.widget-view+json": {
       "model_id": "920b02bfa670430b98acada0ec702ddd",
       "version_major": 2,
       "version_minor": 0
      },
      "text/plain": [
       "interactive(children=(IntSlider(value=94, description='SLICE', max=188), Output()), _dom_classes=('widget-inte…"
      ]
     },
     "metadata": {},
     "output_type": "display_data"
    }
   ],
   "source": [
    "MNI_template_img_path = os.path.join(BASE_DIR, 'assets', 'templates', 'mni_icbm152_t1_tal_nlin_sym_09a.nii')\n",
    "MNI_template_img_ants = ants.image_read(MNI_template_img_path, reorient='IAL')\n",
    "\n",
    "explore_3D_array(arr = MNI_template_img_ants.numpy())"
   ]
  },
  {
   "cell_type": "code",
   "execution_count": 28,
   "id": "e05cb45f-6ff4-48c1-80e8-d53d922813cc",
   "metadata": {},
   "outputs": [
    {
     "name": "stdout",
     "output_type": "stream",
     "text": [
      "\t\tRAW IMG\n",
      "ANTsImage (IAL)\n",
      "\t Pixel Type : float (float32)\n",
      "\t Components : 1\n",
      "\t Dimensions : (256, 256, 192)\n",
      "\t Spacing    : (1.0, 1.0, 1.0)\n",
      "\t Origin     : (191.0, 0.0, 0.0)\n",
      "\t Direction  : [ 0.  0. -1.  0.  1.  0.  1.  0.  0.]\n",
      "\n",
      "\t\tTEMPLATE IMG\n",
      "ANTsImage (IAL)\n",
      "\t Pixel Type : float (float32)\n",
      "\t Components : 1\n",
      "\t Dimensions : (189, 233, 197)\n",
      "\t Spacing    : (1.0, 1.0, 1.0)\n",
      "\t Origin     : (98.0, -98.0, -72.0)\n",
      "\t Direction  : [ 0.  0. -1.  0.  1.  0.  1.  0.  0.]\n",
      "\n"
     ]
    }
   ],
   "source": [
    "print('\\t\\tRAW IMG')\n",
    "print(raw_img_ants)\n",
    "\n",
    "print('\\t\\tTEMPLATE IMG')\n",
    "print(MNI_template_img_ants)"
   ]
  },
  {
   "cell_type": "code",
   "execution_count": 29,
   "id": "ef5b8cdc-b872-4396-838b-3c28a1d4b8ac",
   "metadata": {},
   "outputs": [
    {
     "name": "stdout",
     "output_type": "stream",
     "text": [
      "antsRegistration -d 3 -r [000001CD8652DB90,000001CD8652DC30,1] -m mattes[000001CD8652DB90,000001CD8652DC30,1,32,regular,0.2] -t Affine[0.25] -c 2100x1200x1200x0 -s 3x2x1x0 -f 4x2x2x1 -x [NA,NA] -m mattes[000001CD8652DB90,000001CD8652DC30,1,32] -t SyN[0.200000,3.000000,0.000000] -c [40x20x0,1e-7,8] -s 2x1x0 -f 4x2x1 -u 1 -z 1 -o [C:\\Users\\panka\\AppData\\Local\\Temp\\tmpulelae_5,000001CD8652DA70,000001CD8652DBC0] -x [NA,NA] --float 1 --write-composite-transform 0 -v 1\n"
     ]
    }
   ],
   "source": [
    "#perform registrations\n",
    "transformation = ants.registration(\n",
    "    fixed=MNI_template_img_ants,\n",
    "    moving=raw_img_ants, \n",
    "    type_of_transform='SyN',\n",
    "    verbose=True\n",
    ")"
   ]
  },
  {
   "cell_type": "code",
   "execution_count": 30,
   "id": "96d90c88-b84c-42e6-bf88-db4f24dca100",
   "metadata": {},
   "outputs": [
    {
     "data": {
      "application/vnd.jupyter.widget-view+json": {
       "model_id": "6f6413dd8a8d46f8bfa4af700722c21f",
       "version_major": 2,
       "version_minor": 0
      },
      "text/plain": [
       "interactive(children=(IntSlider(value=94, description='SLICE', max=188), Output()), _dom_classes=('widget-inte…"
      ]
     },
     "metadata": {},
     "output_type": "display_data"
    }
   ],
   "source": [
    "registered_img_ants = transformation['warpedmovout']\n",
    "\n",
    "explore_3D_array(arr=registered_img_ants.numpy())"
   ]
  },
  {
   "cell_type": "markdown",
   "id": "ea76e28f-6fd9-4f79-b1ad-cc36bd760dfa",
   "metadata": {},
   "source": [
    "### Move Raw Mask to Native space"
   ]
  },
  {
   "cell_type": "code",
   "execution_count": 49,
   "id": "e38427a7-5ad5-4c89-8988-f2bc8084a5bb",
   "metadata": {},
   "outputs": [
    {
     "name": "stdout",
     "output_type": "stream",
     "text": [
      "['-d', '3', '-i', '000001CD8FC29CE0', '-o', '000001CD8FC29D00', '-r', '000001CD8FC29D80', '-n', 'linear', '-t', 'C:\\\\Users\\\\panka\\\\AppData\\\\Local\\\\Temp\\\\tmp3oronuwy1Warp.nii.gz', '-t', 'C:\\\\Users\\\\panka\\\\AppData\\\\Local\\\\Temp\\\\tmp3oronuwy0GenericAffine.mat']\n"
     ]
    }
   ],
   "source": [
    "registered_mask_img_ants = ants.apply_transforms(\n",
    "    moving=mask_img_ants,\n",
    "    fixed=transformation_MNI1['warpedmovout'],\n",
    "    transformlist=transformation_MNI1['fwdtransforms'],\n",
    "    verbose=True\n",
    ")"
   ]
  },
  {
   "cell_type": "code",
   "execution_count": 50,
   "id": "b8de6f0b-70ee-4bf3-9f37-8f77f5e1f88a",
   "metadata": {},
   "outputs": [
    {
     "data": {
      "application/vnd.jupyter.widget-view+json": {
       "model_id": "27683725d0734a6299d4e602cfc37b9a",
       "version_major": 2,
       "version_minor": 0
      },
      "text/plain": [
       "interactive(children=(IntSlider(value=94, description='SLICE', max=188), Output()), _dom_classes=('widget-inte…"
      ]
     },
     "metadata": {},
     "output_type": "display_data"
    }
   ],
   "source": [
    "explore_3D_array_with_mask_contour(\n",
    "    arr=registered_img_ants.numpy(),\n",
    "    mask=registered_mask_img_ants.numpy()\n",
    ")"
   ]
  },
  {
   "cell_type": "markdown",
   "id": "37b81768-2e76-4a19-90af-4dd14d8ad096",
   "metadata": {},
   "source": [
    "### Image Registrations task based on Talairachatlas template"
   ]
  },
  {
   "cell_type": "raw",
   "id": "c5343718-3778-497e-af1e-0479e03aab43",
   "metadata": {},
   "source": [
    "Talairach Atlas: The Talairach Atlas is a classic reference for mapping brain structures and is commonly used for spatial normalization in functional neuroimaging studies.\n"
   ]
  },
  {
   "cell_type": "code",
   "execution_count": 20,
   "id": "90ab4846-5986-4091-8af4-da8c6d179f31",
   "metadata": {},
   "outputs": [
    {
     "data": {
      "application/vnd.jupyter.widget-view+json": {
       "model_id": "287b7ba4a01246d8af01067a36a8f769",
       "version_major": 2,
       "version_minor": 0
      },
      "text/plain": [
       "interactive(children=(IntSlider(value=54, description='SLICE', max=109), Output()), _dom_classes=('widget-inte…"
      ]
     },
     "metadata": {},
     "output_type": "display_data"
    }
   ],
   "source": [
    "# here we using Talairach template as a reference point\n",
    "template_img_path = os.path.join(BASE_DIR, 'assets', 'templates', 'talairach.nii')\n",
    "Talairach_template_img_ants = ants.image_read(template_img_path, reorient='LAI')\n",
    "\n",
    "explore_3D_array(arr = template_img_ants.numpy())"
   ]
  },
  {
   "cell_type": "code",
   "execution_count": 21,
   "id": "29897b63-c9bf-4b83-ad36-c1aeb5dfb9ba",
   "metadata": {},
   "outputs": [
    {
     "name": "stdout",
     "output_type": "stream",
     "text": [
      "\t\tRAW IMG\n",
      "ANTsImage (IAL)\n",
      "\t Pixel Type : float (float32)\n",
      "\t Components : 1\n",
      "\t Dimensions : (256, 256, 192)\n",
      "\t Spacing    : (1.0, 1.0, 1.0)\n",
      "\t Origin     : (191.0, 0.0, 0.0)\n",
      "\t Direction  : [ 0.  0. -1.  0.  1.  0.  1.  0.  0.]\n",
      "\n",
      "\t\tTEMPLATE IMG\n",
      "ANTsImage (LAI)\n",
      "\t Pixel Type : float (float32)\n",
      "\t Components : 1\n",
      "\t Dimensions : (141, 172, 110)\n",
      "\t Spacing    : (1.0, 1.0, 1.0)\n",
      "\t Origin     : (70.0, -69.0, -42.0)\n",
      "\t Direction  : [-1.  0.  0.  0.  1.  0.  0.  0.  1.]\n",
      "\n"
     ]
    }
   ],
   "source": [
    "print('\\t\\tRAW IMG')\n",
    "print(raw_img_ants)\n",
    "\n",
    "print('\\t\\tTEMPLATE IMG')\n",
    "print(Talairach_template_img_ants)"
   ]
  },
  {
   "cell_type": "markdown",
   "id": "b60ae65f-ddde-4189-b4a6-0277f61e9ed7",
   "metadata": {},
   "source": [
    "## Perform Registration using Talairach Template"
   ]
  },
  {
   "cell_type": "code",
   "execution_count": 22,
   "id": "55687046-b470-4569-8b41-7a2a95f525bb",
   "metadata": {},
   "outputs": [
    {
     "name": "stdout",
     "output_type": "stream",
     "text": [
      "antsRegistration -d 3 -r [000001CDE73A8AB0,000001CDE73A8D40,1] -m mattes[000001CDE73A8AB0,000001CDE73A8D40,1,32,regular,0.2] -t Affine[0.25] -c 2100x1200x1200x0 -s 3x2x1x0 -f 4x2x2x1 -x [NA,NA] -m mattes[000001CDE73A8AB0,000001CDE73A8D40,1,32] -t SyN[0.200000,3.000000,0.000000] -c [40x20x0,1e-7,8] -s 2x1x0 -f 4x2x1 -u 1 -z 1 -o [C:\\Users\\panka\\AppData\\Local\\Temp\\tmpv4llvky5,000001CDE73A89F0,000001CDE73A8B80] -x [NA,NA] --float 1 --write-composite-transform 0 -v 1\n"
     ]
    }
   ],
   "source": [
    "Tal_transformation = ants.registration(\n",
    "    fixed=Talairach_template_img_ants,\n",
    "    moving=raw_img_ants, \n",
    "    type_of_transform='SyN',\n",
    "    verbose=True\n",
    ")"
   ]
  },
  {
   "cell_type": "markdown",
   "id": "d19c2523-70a9-4976-b094-d2571a72151b",
   "metadata": {},
   "source": [
    "### Observed dimentaions after registrations"
   ]
  },
  {
   "cell_type": "code",
   "execution_count": 23,
   "id": "7b7e5811-0a5b-4a5d-b0ee-6bf3f088094b",
   "metadata": {},
   "outputs": [
    {
     "name": "stdout",
     "output_type": "stream",
     "text": [
      "{'warpedmovout': ANTsImage (LAI)\n",
      "\t Pixel Type : float (float32)\n",
      "\t Components : 1\n",
      "\t Dimensions : (141, 172, 110)\n",
      "\t Spacing    : (1.0, 1.0, 1.0)\n",
      "\t Origin     : (70.0, -69.0, -42.0)\n",
      "\t Direction  : [-1.  0.  0.  0.  1.  0.  0.  0.  1.]\n",
      ", 'warpedfixout': ANTsImage (IAL)\n",
      "\t Pixel Type : float (float32)\n",
      "\t Components : 1\n",
      "\t Dimensions : (256, 256, 192)\n",
      "\t Spacing    : (1.0, 1.0, 1.0)\n",
      "\t Origin     : (191.0, 0.0, 0.0)\n",
      "\t Direction  : [ 0.  0. -1.  0.  1.  0.  1.  0.  0.]\n",
      ", 'fwdtransforms': ['C:\\\\Users\\\\panka\\\\AppData\\\\Local\\\\Temp\\\\tmpv4llvky51Warp.nii.gz', 'C:\\\\Users\\\\panka\\\\AppData\\\\Local\\\\Temp\\\\tmpv4llvky50GenericAffine.mat'], 'invtransforms': ['C:\\\\Users\\\\panka\\\\AppData\\\\Local\\\\Temp\\\\tmpv4llvky50GenericAffine.mat', 'C:\\\\Users\\\\panka\\\\AppData\\\\Local\\\\Temp\\\\tmpv4llvky51InverseWarp.nii.gz']}\n"
     ]
    }
   ],
   "source": [
    "# warpedmovout: Moving image warped to space of fixed image.\n",
    "# warpedfixout: Fixed image warped to space of moving image.\n",
    "# fwdtransforms: Transforms to move from moving to fixed image. \n",
    "# invtransforms: Transforms to move from fixed to moving image.\n",
    "print(Tal_transformation)"
   ]
  },
  {
   "cell_type": "code",
   "execution_count": 24,
   "id": "99934b4d-4734-4ee6-b599-6b06496063d2",
   "metadata": {},
   "outputs": [
    {
     "data": {
      "application/vnd.jupyter.widget-view+json": {
       "model_id": "985620fe643643a99b21a31e767e01b9",
       "version_major": 2,
       "version_minor": 0
      },
      "text/plain": [
       "interactive(children=(IntSlider(value=70, description='SLICE', max=140), Output()), _dom_classes=('widget-inte…"
      ]
     },
     "metadata": {},
     "output_type": "display_data"
    }
   ],
   "source": [
    "Tal_registered_img_ants = Tal_transformation['warpedmovout'] # warpedmovout: Moving image warped to space of fixed image.\n",
    "\n",
    "explore_3D_array(arr=Tal_registered_img_ants.numpy())"
   ]
  },
  {
   "cell_type": "code",
   "execution_count": 18,
   "id": "2cd9830e-7cf0-4fe5-bf08-3b4f4644caba",
   "metadata": {},
   "outputs": [
    {
     "data": {
      "application/vnd.jupyter.widget-view+json": {
       "model_id": "d89969a887dd40b297f5928644fa7369",
       "version_major": 2,
       "version_minor": 0
      },
      "text/plain": [
       "interactive(children=(IntSlider(value=54, description='SLICE', max=109), Output()), _dom_classes=('widget-inte…"
      ]
     },
     "metadata": {},
     "output_type": "display_data"
    }
   ],
   "source": [
    "explore_3D_array(arr=MNI_registered_img_ants.numpy())"
   ]
  },
  {
   "cell_type": "code",
   "execution_count": 51,
   "id": "108bddd7-aac0-4c9f-a339-4ee1ecb06208",
   "metadata": {},
   "outputs": [
    {
     "name": "stdout",
     "output_type": "stream",
     "text": [
      "['-d', '3', '-i', '000001CD86238FE0', '-o', '000001CD86238EF0', '-r', '000001CD86239000', '-n', 'linear', '-t', 'C:\\\\Users\\\\panka\\\\AppData\\\\Local\\\\Temp\\\\tmpv4llvky51Warp.nii.gz', '-t', 'C:\\\\Users\\\\panka\\\\AppData\\\\Local\\\\Temp\\\\tmpv4llvky50GenericAffine.mat']\n"
     ]
    }
   ],
   "source": [
    "Tal_registered_mask_img_ants = ants.apply_transforms(\n",
    "    moving=mask_img_ants,\n",
    "    fixed=Tal_transformation['warpedmovout'],\n",
    "    transformlist=Tal_transformation['fwdtransforms'],\n",
    "    verbose=True\n",
    ")"
   ]
  },
  {
   "cell_type": "code",
   "execution_count": 53,
   "id": "87f838a6-41d1-46fe-9b03-f63179b3c42c",
   "metadata": {},
   "outputs": [
    {
     "data": {
      "application/vnd.jupyter.widget-view+json": {
       "model_id": "7ce9676fba3d417eae55d489ae659643",
       "version_major": 2,
       "version_minor": 0
      },
      "text/plain": [
       "interactive(children=(IntSlider(value=70, description='SLICE', max=140), Output()), _dom_classes=('widget-inte…"
      ]
     },
     "metadata": {},
     "output_type": "display_data"
    }
   ],
   "source": [
    "explore_3D_array_with_mask_contour(\n",
    "    arr=Tal_registered_img_ants.numpy(),\n",
    "    mask=Tal_registered_mask_img_ants.numpy()\n",
    ")"
   ]
  },
  {
   "cell_type": "code",
   "execution_count": 54,
   "id": "21dc159d-1256-483a-8fb6-0d3c5ff54526",
   "metadata": {},
   "outputs": [
    {
     "data": {
      "text/plain": [
       "249.5"
      ]
     },
     "execution_count": 54,
     "metadata": {},
     "output_type": "execute_result"
    }
   ],
   "source": [
    "1497/6"
   ]
  },
  {
   "cell_type": "code",
   "execution_count": 56,
   "id": "9f917a63-deb0-44bf-9e94-95af78352f38",
   "metadata": {},
   "outputs": [
    {
     "data": {
      "text/plain": [
       "1996"
      ]
     },
     "execution_count": 56,
     "metadata": {},
     "output_type": "execute_result"
    }
   ],
   "source": [
    "1497+499"
   ]
  },
  {
   "cell_type": "code",
   "execution_count": 57,
   "id": "8d528950-40d0-4e26-9bf5-5dd987328c4b",
   "metadata": {},
   "outputs": [
    {
     "data": {
      "text/plain": [
       "1247.5"
      ]
     },
     "execution_count": 57,
     "metadata": {},
     "output_type": "execute_result"
    }
   ],
   "source": [
    "1497-249.5\n"
   ]
  },
  {
   "cell_type": "code",
   "execution_count": 58,
   "id": "8f2b9122-9010-4f14-a424-cad01aea26bb",
   "metadata": {},
   "outputs": [
    {
     "data": {
      "text/plain": [
       "249.4"
      ]
     },
     "execution_count": 58,
     "metadata": {},
     "output_type": "execute_result"
    }
   ],
   "source": [
    "1247/5"
   ]
  },
  {
   "cell_type": "code",
   "execution_count": 59,
   "id": "2dcbd268-57dd-4cfd-8040-13cbabad2b10",
   "metadata": {},
   "outputs": [
    {
     "data": {
      "text/plain": [
       "125.0"
      ]
     },
     "execution_count": 59,
     "metadata": {},
     "output_type": "execute_result"
    }
   ],
   "source": [
    "750/6"
   ]
  },
  {
   "cell_type": "code",
   "execution_count": 60,
   "id": "f02d3d92-7179-422b-8f90-2109f6472a3e",
   "metadata": {},
   "outputs": [
    {
     "data": {
      "text/plain": [
       "374.5"
      ]
     },
     "execution_count": 60,
     "metadata": {},
     "output_type": "execute_result"
    }
   ],
   "source": [
    "249.5+125"
   ]
  },
  {
   "cell_type": "code",
   "execution_count": 61,
   "id": "1042e2de-bb2d-422b-896f-2d02b02e9393",
   "metadata": {},
   "outputs": [
    {
     "data": {
      "text/plain": [
       "118.5"
      ]
     },
     "execution_count": 61,
     "metadata": {},
     "output_type": "execute_result"
    }
   ],
   "source": [
    "711/6"
   ]
  },
  {
   "cell_type": "code",
   "execution_count": 62,
   "id": "40b2ae17-bbf4-41e5-b593-8786e837bed5",
   "metadata": {},
   "outputs": [
    {
     "data": {
      "text/plain": [
       "367.9"
      ]
     },
     "execution_count": 62,
     "metadata": {},
     "output_type": "execute_result"
    }
   ],
   "source": [
    "249.5+118.4"
   ]
  },
  {
   "cell_type": "code",
   "execution_count": 63,
   "id": "6e8d25a2-123b-4577-87a7-0af05cddce0b",
   "metadata": {},
   "outputs": [
    {
     "data": {
      "text/plain": [
       "125.0"
      ]
     },
     "execution_count": 63,
     "metadata": {},
     "output_type": "execute_result"
    }
   ],
   "source": [
    "750/6"
   ]
  },
  {
   "cell_type": "code",
   "execution_count": 64,
   "id": "5731e1a2-05b6-408c-9f9c-39cd49355995",
   "metadata": {},
   "outputs": [
    {
     "data": {
      "text/plain": [
       "374.5"
      ]
     },
     "execution_count": 64,
     "metadata": {},
     "output_type": "execute_result"
    }
   ],
   "source": [
    "249.5+125"
   ]
  },
  {
   "cell_type": "code",
   "execution_count": null,
   "id": "d50ac886-ebf4-4ac9-8e4b-d56c82179bd4",
   "metadata": {},
   "outputs": [],
   "source": []
  }
 ],
 "metadata": {
  "kernelspec": {
   "display_name": "Python 3 (ipykernel)",
   "language": "python",
   "name": "python3"
  },
  "language_info": {
   "codemirror_mode": {
    "name": "ipython",
    "version": 3
   },
   "file_extension": ".py",
   "mimetype": "text/x-python",
   "name": "python",
   "nbconvert_exporter": "python",
   "pygments_lexer": "ipython3",
   "version": "3.9.18"
  }
 },
 "nbformat": 4,
 "nbformat_minor": 5
}
